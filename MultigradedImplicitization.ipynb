{
 "cells": [
  {
   "cell_type": "code",
   "execution_count": 1,
   "id": "29e32e22-638f-4977-bd67-96c0612341d6",
   "metadata": {},
   "outputs": [
    {
     "name": "stdout",
     "output_type": "stream",
     "text": [
      " -----    -----    -----      -      -----   \n",
      "|     |  |     |  |     |    | |    |     |  \n",
      "|     |  |        |         |   |   |     |  \n",
      "|     |   -----   |        |     |  |-----   \n",
      "|     |        |  |        |-----|  |   |    \n",
      "|     |  |     |  |     |  |     |  |    |   \n",
      " -----    -----    -----   -     -  -     -  \n",
      "\n",
      "...combining (and extending) ANTIC, GAP, Polymake and Singular\n",
      "Version\u001b[32m 0.12.1 \u001b[39m... \n",
      " ... which comes with absolutely no warranty whatsoever\n",
      "Type: '?Oscar' for more information\n",
      "(c) 2019-2023 by The OSCAR Development Team\n"
     ]
    }
   ],
   "source": [
    "using Oscar"
   ]
  },
  {
   "cell_type": "code",
   "execution_count": 2,
   "id": "279ca696-a67e-444d-99fb-6a1dba92c84a",
   "metadata": {},
   "outputs": [
    {
     "data": {
      "text/plain": [
       "mons_and_coeffs (generic function with 1 method)"
      ]
     },
     "execution_count": 2,
     "metadata": {},
     "output_type": "execute_result"
    }
   ],
   "source": [
    "# Some generic helper functions which I could not find in Julia or OSCAR\n",
    "\n",
    "# Determine the pivots by computing the RREF and then looking for the first nonzero entry of each row\n",
    "function pivots(M)\n",
    "\n",
    "    (r, R) = rref(M)\n",
    "    pivots = []\n",
    "\n",
    "    for i in 1:nrows(R)\n",
    "        for j in 1:ncols(R)\n",
    "\n",
    "            if R[i,j] != 0\n",
    "                append!(pivots, [[i,j]])\n",
    "                break\n",
    "            end\n",
    "        end\n",
    "    end\n",
    "\n",
    "    return pivots\n",
    "end\n",
    "\n",
    "\n",
    "# given a vector of monomials mons and a row vector M of polynomials finds a matrix coeffs such that mons*coeffs = M\n",
    "# this replaces the function coefficients which we use in macaulay2\n",
    "function mons_and_coeffs(mons, M)\n",
    "\n",
    "    coeffs = [[coeff(f, mons[j]) for f in M] for j in 1:length(mons)]\n",
    "\n",
    "    return matrix(QQ, coeffs)\n",
    "end"
   ]
  },
  {
   "cell_type": "code",
<<<<<<< HEAD
   "execution_count": 3,
=======
   "execution_count": 5,
>>>>>>> bbecb4c5de9c5cefcaa51cb68fba71b596ce9d21
   "id": "ff71503b-bdea-4b90-bb08-e8e218738fad",
   "metadata": {},
   "outputs": [
    {
     "data": {
      "text/plain": [
       "max_grading (generic function with 1 method)"
      ]
     },
<<<<<<< HEAD
     "execution_count": 3,
=======
     "execution_count": 5,
>>>>>>> bbecb4c5de9c5cefcaa51cb68fba71b596ce9d21
     "metadata": {},
     "output_type": "execute_result"
    }
   ],
   "source": [
    "# compute the homogeneity space of an ideal and return it in row reduced echelon form\n",
    "function homogeneity_space(I)\n",
    "\n",
    "    F = gens(I)\n",
    "    n = length(gens(parent(F[1])))\n",
    "    homogeneity_eqs = matrix(ZZ, [[0 for i in 1:n]])\n",
    "\n",
    "    for f in F\n",
    "\n",
    "        exps = [exponent_vector(f,i) for i in 1:length(f)]\n",
    "        eqs = matrix(ZZ, vcat([exps[1]-exps[i] for i in 2:length(exps)]))\n",
    "        homogeneity_eqs = vcat(homogeneity_eqs, eqs)\n",
    "    end\n",
    "    \n",
    "    return rref(transpose(nullspace(homogeneity_eqs)[2]))[2]\n",
    "end\n",
    "\n",
    "# finds the maximal grading of the kernel of a polynomial map phi\n",
    "# by computing the homogeneity space of the elimination ideal\n",
    "function max_grading(phi)\n",
    "\n",
    "    codom = codomain(phi)\n",
    "    dom = domain(phi)\n",
    "    elim_ring, z = polynomial_ring(QQ, vcat([string(i) for i in symbols(codom)], [string(i) for i in symbols(dom)]))\n",
    "\n",
    "    lift_codom = hom(codom, elim_ring, gens(elim_ring)[1:ngens(codom)])\n",
    "    lift_dom = hom(dom, elim_ring, gens(elim_ring)[ngens(codom)+1:ngens(elim_ring)])\n",
    "\n",
    "    return homogeneity_space(ideal([lift_dom(x) - lift_codom(phi(x)) for x in gens(dom)]))\n",
    "end"
   ]
  },
  {
   "cell_type": "code",
<<<<<<< HEAD
   "execution_count": 4,
=======
   "execution_count": 3,
>>>>>>> bbecb4c5de9c5cefcaa51cb68fba71b596ce9d21
   "id": "e4960107-0f92-4b58-9e41-9b6f9999125d",
   "metadata": {},
   "outputs": [
    {
     "data": {
      "text/plain": [
       "find_basis_in_degree (generic function with 1 method)"
      ]
     },
<<<<<<< HEAD
     "execution_count": 4,
=======
     "execution_count": 3,
>>>>>>> bbecb4c5de9c5cefcaa51cb68fba71b596ce9d21
     "metadata": {},
     "output_type": "execute_result"
    }
   ],
   "source": [
    "# computes the basis for domain in degree deg but removes all monomials \n",
    "# which correspond to previously computed relations G\n",
    "function find_basis_in_degree(domain, deg, prev_gens) \n",
    "\n",
    "    if length(prev_gens) == 0\n",
    "        \n",
    "        return monomial_basis(domain, deg)\n",
    "    end\n",
    "\n",
    "    \n",
    "    gen_shifts = reduce(vcat, [[g*b for b in monomial_basis(domain, deg - degree(g))] for g in prev_gens])\n",
    "    mons = unique!(reduce(vcat, [collect(monomials(f)) for f in gen_shifts]))\n",
    "    coeffs = mons_and_coeffs(mons, gen_shifts)\n",
    "    bad_monomials = [mons[p[1]] for p in pivots(coeffs)]\n",
    "\n",
    "    return [m for m in monomial_basis(domain, deg) if !(m in bad_monomials)]\n",
    "end"
   ]
  },
  {
   "cell_type": "code",
<<<<<<< HEAD
   "execution_count": 5,
   "id": "89970ec8-5f7b-4430-8d72-d6557380c7cb",
   "metadata": {},
   "outputs": [
    {
     "data": {
      "text/plain": [
       "component_of_ideal (generic function with 1 method)"
      ]
     },
     "execution_count": 5,
     "metadata": {},
     "output_type": "execute_result"
    }
   ],
   "source": [
    "function component_of_ideal(phi, deg, prev_gens)\n",
    "\n",
    "    mon_basis = find_basis_in_degree(domain(phi), deg, prev_gens)\n",
    "    image_polys = [phi(m) for m in mon_basis]\n",
    "    mons = unique!(reduce(vcat, [collect(monomials(f)) for f in image_polys]))\n",
    "    coeffs = mons_and_coeffs(mons, image_polys)\n",
    "    (r, K) = nullspace(coeffs)\n",
    "    \n",
    "    return mon_basis*K\n",
    "end"
   ]
  },
  {
   "cell_type": "code",
   "execution_count": 6,
   "id": "04bf3689-33aa-4c8e-80a1-6ac8cab47c62",
   "metadata": {},
   "outputs": [
    {
     "data": {
      "text/plain": [
       "components_of_ideal (generic function with 1 method)"
      ]
     },
     "execution_count": 6,
     "metadata": {},
     "output_type": "execute_result"
    }
   ],
   "source": [
    "function components_of_ideal(phi, d)\n",
    "\n",
    "    A = max_grading(phi)[:, (ngens(codomain(phi))+1):end]\n",
    "    #A = vcat(matrix(ZZ, [[1 for i in 1:ncols(A)]]), A)\n",
    "    graded_dom = grade(domain(phi), A)[1]\n",
    "    grA = grading_group(graded_dom)\n",
    "    total_deg_dom = grade(domain(phi), [1 for i in 1:ngens(domain(phi))])[1]\n",
    "    phi = hom(graded_dom, codomain(phi), [phi(x) for x in gens(domain(phi))]) \n",
    "    poly_dicts = Dict()\n",
    "    prev_gens = []\n",
    "    \n",
    "    for i in 1:d\n",
    "        \n",
    "        all_mons = [graded_dom(m) for m in monomial_basis(total_deg_dom, [i])]\n",
    "        all_degs = unique!([degree(m) for m in all_mons])\n",
    "        cur_gens = Dict()\n",
    "        \n",
    "        Threads.@threads for deg in all_degs\n",
    "\n",
    "            if i == 1\n",
    "\n",
    "                prev_gens = []   \n",
    "            else\n",
    "                prev_gens = reduce(vcat, [poly_dicts[i-1][deg-degree(x)] for x in gens(graded_dom) if (deg-degree(x)) in keys(poly_dicts[i-1])])\n",
    "            end\n",
    "\n",
    "            cur_gens[deg] = component_of_ideal(phi, deg, prev_gens)\n",
    "        end\n",
    "\n",
    "        poly_dicts[d] = cur_gens\n",
    "    \n",
    "    end\n",
    "\n",
    "    return poly_dicts\n",
    "end"
   ]
  },
  {
   "cell_type": "code",
   "execution_count": null,
   "id": "bef34079-cf5d-456e-94df-af6ccc5b5da7",
   "metadata": {},
   "outputs": [
    {
     "name": "stdout",
     "output_type": "stream",
     "text": [
      "2\n",
      "GrpAbFinGenElem[[0 0 0 0 0 1 0 1], [0 0 0 0 0 1 1 0], [0 0 0 0 1 0 0 1], [0 0 0 0 1 0 1 0], [0 1 0 1 0 0 0 0], [0 1 1 0 0 0 0 0], [1 0 0 1 0 0 0 0], [1 0 1 0 0 0 0 0]]\n",
      "\n",
      "Any[]\n",
      "\n",
      "Any[]\n",
      "\n",
      "Any[]\n",
      "\n",
      "Any[]\n",
      "\n",
      "called components\n",
      "called components\n",
      "called components\n",
      "called components"
     ]
    }
   ],
   "source": [
    "components_of_ideal(phi, 2)"
   ]
  },
  {
   "cell_type": "code",
   "execution_count": 8,
=======
   "execution_count": 6,
>>>>>>> bbecb4c5de9c5cefcaa51cb68fba71b596ce9d21
   "id": "a222c48e-26fd-4da8-8673-f17ee1eee9e2",
   "metadata": {},
   "outputs": [
    {
     "data": {
      "text/plain": [
<<<<<<< HEAD
       "[1 1 1 1 0 0 0 0]"
      ]
     },
     "execution_count": 8,
=======
       "graded by [2 1 1 2 2 2 2 2]"
      ]
     },
     "execution_count": 6,
>>>>>>> bbecb4c5de9c5cefcaa51cb68fba71b596ce9d21
     "metadata": {},
     "output_type": "execute_result"
    }
   ],
   "source": [
    "# Example: A product of segree products\n",
    "R, (x11, x12, x21, x22, y11, y12, y21, y22) = QQ[\"x11\", \"x12\", \"x21\", \"x22\", \"y11\", \"y12\", \"y21\", \"y22\"]\n",
    "S, (s1, s2, t1, t2, m1, m2, n1, n2) = QQ[\"s1\", \"s2\", \"t1\", \"t2\", \"m1\", \"m2\", \"n1\", \"n2\"]\n",
    "phi = hom(R, S, [s1*t1, s1*t2, s2*t1, s2*t2, m1*n1, m1*n2, m2*n1, m2*n2])\n",
    "A = max_grading(phi)[:, 9:end]\n",
    "B = vcat(matrix(QQ, [[1 for i in 1:ncols(A)]]), A)\n",
    "R, (x11, x12, x21, x22, y11, y12, y21, y22) = grade(R, A)\n",
    "phi = hom(R, S, [s1*t1, s1*t2, s2*t1, s2*t2, m1*n1, m1*n2, m2*n1, m2*n2])\n",
    "f1 = x11*x22 - x12*x21\n",
    "f2 = y11*y22 - y12*y21\n",
    "G = [f1,  f2];\n",
    "grA = grading_group(R)\n",
    "deg = grA([1,1,1,1,0,0,0,0])"
   ]
  }
 ],
 "metadata": {
  "kernelspec": {
   "display_name": "Julia 1.8.0",
   "language": "julia",
   "name": "julia-1.8"
  },
  "language_info": {
   "file_extension": ".jl",
   "mimetype": "application/julia",
   "name": "julia",
   "version": "1.8.0"
  }
 },
 "nbformat": 4,
 "nbformat_minor": 5
}
